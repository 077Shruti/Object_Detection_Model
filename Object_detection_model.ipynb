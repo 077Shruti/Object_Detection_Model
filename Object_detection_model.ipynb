{
 "cells": [
  {
   "cell_type": "code",
   "execution_count": 28,
   "metadata": {},
   "outputs": [],
   "source": [
    "import cv2  \n",
    "import torch  \n",
    "import numpy as np  \n",
    "import base64  \n",
    "import os  \n",
    "import matplotlib.pyplot as plt  \n",
    "\n",
    "\n",
    "\n"
   ]
  },
  {
   "cell_type": "code",
   "execution_count": 29,
   "metadata": {},
   "outputs": [],
   "source": [
    "# Function to load image from data URL or path  \n",
    "def load_image(image_source):  \n",
    "    # Check if the image source is a Data URL  \n",
    "    if image_source.startswith('data:image'):  \n",
    "        # Process Data URL  \n",
    "        header, encoded = image_source.split(',', 1)  \n",
    "        data = base64.b64decode(encoded)  \n",
    "        nparr = np.frombuffer(data, np.uint8)  \n",
    "        img = cv2.imdecode(nparr, cv2.IMREAD_COLOR)  \n",
    "    else:  \n",
    "        # Process file path  \n",
    "        img = cv2.imread(image_source)  \n",
    "        if img is None:  \n",
    "            raise ValueError(f\"Could not read image from path: {image_source}\")  \n",
    "    return img  \n",
    "\n",
    "\n",
    "\n"
   ]
  },
  {
   "cell_type": "code",
   "execution_count": 30,
   "metadata": {},
   "outputs": [],
   "source": [
    "def load_image(image_source):  \n",
    "    img = cv2.imread(image_source)  \n",
    "    if img is None:  \n",
    "        raise ValueError(f\"Could not read image from path: {image_source}\")  \n",
    "    return img"
   ]
  },
  {
   "cell_type": "code",
   "execution_count": 31,
   "metadata": {},
   "outputs": [],
   "source": [
    "image_source = r'C:\\Users\\sc941\\OneDrive\\Documents\\mini\\i.jpeg'  # Replace with your image path  \n",
    "\n",
    "# Load the image  \n",
    "frame = load_image(image_source)  \n",
    "\n",
    "# Display the image using matplotlib  \n",
    "cv2.imshow(\"Detected Image\", frame)  \n",
    "cv2.waitKey(0)  # Wait for a key press to close the window  \n",
    "cv2.destroyAllWindows()  # Close the window"
   ]
  },
  {
   "cell_type": "code",
   "execution_count": 35,
   "metadata": {},
   "outputs": [
    {
     "name": "stderr",
     "output_type": "stream",
     "text": [
      "Using cache found in C:\\Users\\sc941/.cache\\torch\\hub\\ultralytics_yolov5_master\n",
      "YOLOv5  2024-11-4 Python-3.11.9 torch-2.5.1+cu124 CPU\n",
      "\n",
      "Fusing layers... \n",
      "YOLOv5s summary: 213 layers, 7225885 parameters, 0 gradients, 16.4 GFLOPs\n",
      "Adding AutoShape... \n",
      "C:\\Users\\sc941/.cache\\torch\\hub\\ultralytics_yolov5_master\\models\\common.py:892: FutureWarning: `torch.cuda.amp.autocast(args...)` is deprecated. Please use `torch.amp.autocast('cuda', args...)` instead.\n",
      "  with amp.autocast(autocast):\n"
     ]
    }
   ],
   "source": [
    "import cv2  \n",
    "import torch  \n",
    "\n",
    "# Load YOLOv5 model  \n",
    "model = torch.hub.load('ultralytics/yolov5', 'yolov5s', pretrained=True)  \n",
    "\n",
    "# Specify the path to your image  \n",
    "image_source = r'C:\\Users\\sc941\\OneDrive\\Documents\\mini\\i.jpeg'  # Update with your path  \n",
    "\n",
    "# Load the image  \n",
    "frame = cv2.imread(image_source)  \n",
    "\n",
    "# Perform object detection  \n",
    "results = model(frame)  \n",
    "\n",
    "# Draw bounding boxes on the image  \n",
    "for result in results.xyxy[0]:  # Results are in xyxy format  \n",
    "    x1, y1, x2, y2, conf, cls = result  \n",
    "    cv2.rectangle(frame, (int(x1), int(y1)), (int(x2), int(y2)), (0, 255, 0), 2)  \n",
    "    cv2.putText(frame, f\"{model.names[int(cls)]} {conf:.2f}\",   \n",
    "                (int(x1), int(y1 - 10)), cv2.FONT_HERSHEY_SIMPLEX, 0.5,   \n",
    "                (0, 255, 0), 2)  \n",
    "\n",
    "# Display the resulting frame with OpenCV  \n",
    "cv2.imshow(\"Detected Image\", frame)  \n",
    "cv2.waitKey(0)  # Wait for a key press to close the window  \n",
    "cv2.destroyAllWindows()  # Close the window"
   ]
  },
  {
   "cell_type": "code",
   "execution_count": 37,
   "metadata": {},
   "outputs": [
    {
     "name": "stdout",
     "output_type": "stream",
     "text": [
      "Model saved to yolov5s.pt\n"
     ]
    }
   ],
   "source": [
    "model_path = 'yolov5s.pt'  # Specify the path where you want to save the model  \n",
    "torch.save(model.state_dict(), model_path)  \n",
    "\n",
    "print(f'Model saved to {model_path}')  "
   ]
  },
  {
   "cell_type": "code",
   "execution_count": null,
   "metadata": {},
   "outputs": [],
   "source": []
  }
 ],
 "metadata": {
  "kernelspec": {
   "display_name": "Python 3",
   "language": "python",
   "name": "python3"
  },
  "language_info": {
   "codemirror_mode": {
    "name": "ipython",
    "version": 3
   },
   "file_extension": ".py",
   "mimetype": "text/x-python",
   "name": "python",
   "nbconvert_exporter": "python",
   "pygments_lexer": "ipython3",
   "version": "3.11.9"
  }
 },
 "nbformat": 4,
 "nbformat_minor": 2
}
